{
  "nbformat": 4,
  "nbformat_minor": 0,
  "metadata": {
    "colab": {
      "name": "Algoritmo RSA.ipynb",
      "provenance": [],
      "authorship_tag": "ABX9TyPIou1Y37ch8lP8wBZdM7/w",
      "include_colab_link": true
    },
    "kernelspec": {
      "name": "python3",
      "display_name": "Python 3"
    }
  },
  "cells": [
    {
      "cell_type": "markdown",
      "metadata": {
        "id": "view-in-github",
        "colab_type": "text"
      },
      "source": [
        "<a href=\"https://colab.research.google.com/github/mleyvaz/criptografia/blob/main/Algoritmo_RSA.ipynb\" target=\"_parent\"><img src=\"https://colab.research.google.com/assets/colab-badge.svg\" alt=\"Open In Colab\"/></a>"
      ]
    },
    {
      "cell_type": "code",
      "metadata": {
        "id": "j97NqosROJ2X"
      },
      "source": [
        "'''\r\n",
        "Part A - RSA Encryption\r\n",
        "'''\r\n",
        "\r\n",
        "import random\r\n",
        "\r\n",
        "\r\n",
        "'''\r\n",
        "Euclid's algorithm for determining the greatest common divisor\r\n",
        "Use iteration to make it faster for larger integers\r\n",
        "'''\r\n",
        "def gcd(a, b):\r\n",
        "    while b != 0:\r\n",
        "        a, b = b, a % b\r\n",
        "    return a\r\n",
        "\r\n",
        "'''\r\n",
        "Euclid's extended algorithm for finding the multiplicative inverse of two numbers\r\n",
        "'''\r\n",
        "def multiplicative_inverse(e, phi):\r\n",
        "    d = 0\r\n",
        "    x1 = 0\r\n",
        "    x2 = 1\r\n",
        "    y1 = 1\r\n",
        "    temp_phi = phi\r\n",
        "    \r\n",
        "    while e > 0:\r\n",
        "        temp1 = temp_phi/e\r\n",
        "        temp2 = temp_phi - temp1 * e\r\n",
        "        temp_phi = e\r\n",
        "        e = temp2\r\n",
        "        \r\n",
        "        x = x2- temp1* x1\r\n",
        "        y = d - temp1 * y1\r\n",
        "        \r\n",
        "        x2 = x1\r\n",
        "        x1 = x\r\n",
        "        d = y1\r\n",
        "        y1 = y\r\n",
        "    \r\n",
        "    if temp_phi == 1:\r\n",
        "        return d + phi\r\n",
        "\r\n",
        "'''\r\n",
        "Tests to see if a number is prime.\r\n",
        "'''\r\n",
        "def is_prime(num):\r\n",
        "    if num == 2:\r\n",
        "        return True\r\n",
        "    if num < 2 or num % 2 == 0:\r\n",
        "        return False\r\n",
        "    for n in range(3, int(num**0.5)+2, 2):\r\n",
        "        if num % n == 0:\r\n",
        "            return False\r\n",
        "    return True\r\n",
        "\r\n",
        "def generate_keypair(p, q):\r\n",
        "    if not (is_prime(p) and is_prime(q)):\r\n",
        "        raise ValueError('Both numbers must be prime.')\r\n",
        "    elif p == q:\r\n",
        "        raise ValueError('p and q cannot be equal')\r\n",
        "    #n = pq\r\n",
        "    n = p * q\r\n",
        "\r\n",
        "    #Phi is the totient of n\r\n",
        "    phi = (p-1) * (q-1)\r\n",
        "\r\n",
        "    #Choose an integer e such that e and phi(n) are coprime\r\n",
        "    e = random.randrange(1, phi)\r\n",
        "\r\n",
        "    #Use Euclid's Algorithm to verify that e and phi(n) are comprime\r\n",
        "    g = gcd(e, phi)\r\n",
        "    while g != 1:\r\n",
        "        e = random.randrange(1, phi)\r\n",
        "        g = gcd(e, phi)\r\n",
        "\r\n",
        "    #Use Extended Euclid's Algorithm to generate the private key\r\n",
        "    d = multiplicative_inverse(e, phi)\r\n",
        "    \r\n",
        "    #Return public and private keypair\r\n",
        "    #Public key is (e, n) and private key is (d, n)\r\n",
        "    return ((e, n), (d, n))\r\n",
        "\r\n",
        "def encrypt(pk, plaintext):\r\n",
        "    #Unpack the key into it's components\r\n",
        "    key, n = pk\r\n",
        "    #Convert each letter in the plaintext to numbers based on the character using a^b mod m\r\n",
        "    cipher = [(ord(char) ** key) % n for char in plaintext]\r\n",
        "    #Return the array of bytes\r\n",
        "    return cipher\r\n",
        "\r\n",
        "def decrypt(pk, ciphertext):\r\n",
        "    #Unpack the key into its components\r\n",
        "    key, n = pk\r\n",
        "    #Generate the plaintext based on the ciphertext and key using a^b mod m\r\n",
        "    plain = [chr((char ** key) % n) for char in ciphertext]\r\n",
        "    #Return the array of bytes as a string\r\n",
        "    return ''.join(plain)    \r\n",
        "\r\n"
      ],
      "execution_count": 14,
      "outputs": []
    },
    {
      "cell_type": "code",
      "metadata": {
        "id": "qQdW2necOca3"
      },
      "source": [
        ""
      ],
      "execution_count": 13,
      "outputs": []
    }
  ]
}